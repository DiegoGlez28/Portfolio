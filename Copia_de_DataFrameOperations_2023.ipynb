{
  "cells": [
    {
      "cell_type": "markdown",
      "metadata": {
        "id": "NeVVHjd1xtzC"
      },
      "source": [
        "https://www.coursera.org/learn/python-data-analysis/"
      ]
    },
    {
      "cell_type": "markdown",
      "metadata": {
        "id": "QLutpvGdyT_o"
      },
      "source": [
        "**Librerías**"
      ]
    },
    {
      "cell_type": "code",
      "execution_count": 1,
      "metadata": {
        "id": "NuFLAGot2J0H"
      },
      "outputs": [],
      "source": [
        "import pandas as pd\n",
        "import numpy as np"
      ]
    },
    {
      "cell_type": "markdown",
      "metadata": {
        "id": "WON2KWybzSAu"
      },
      "source": [
        "**Settings**"
      ]
    },
    {
      "cell_type": "code",
      "execution_count": 2,
      "metadata": {
        "id": "oyLkZB3_zUkk"
      },
      "outputs": [],
      "source": [
        "pd.set_option('display.max_columns', None)\n",
        "pd.set_option('display.max_rows',None)"
      ]
    },
    {
      "cell_type": "markdown",
      "metadata": {
        "id": "XLyHVyHX3_JA"
      },
      "source": []
    },
    {
      "cell_type": "markdown",
      "metadata": {
        "id": "Ct16g-BQ2Gt4"
      },
      "source": [
        "### Question 1 \n",
        "Load the energy data from the file Energy Indicators.xls, which is a list of indicators of energy supply and renewable electricity production from the United Nations for the year 2013, and should be put into a DataFrame with the variable name of energy.\n",
        "\n",
        "Keep in mind that this is an Excel file, and not a comma separated values file. Also, make sure to exclude the footer and header information from the datafile. The first two columns are unneccessary, so you should get rid of them, and you should change the column labels so that the columns are:\n",
        "\n",
        "['Country', 'Energy Supply', 'Energy Supply per Capita', '% Renewable']"
      ]
    },
    {
      "cell_type": "code",
      "execution_count": 3,
      "metadata": {
        "id": "MCX4ImiK2d94"
      },
      "outputs": [],
      "source": [
        "energy = pd.read_excel('Copia de Energy Indicators.xlsx', skiprows = 18, skipfooter = 38, na_values = '...', header = None ,names=['A','B','Country', 'Energy Supply', 'Energy Supply per Capita', '% Renewable'])\n",
        "energy.drop(['A','B'], axis = 1, inplace = True)"
      ]
    },
    {
      "cell_type": "markdown",
      "metadata": {
        "id": "0cbG5_HH3jW_"
      },
      "source": [
        "### Question 2 \n",
        "Convert Energy Supply to gigajoules (there are 1,000,000 gigajoules in a petajoule). For all countries which have missing data (e.g. data with \"...\") make sure this is reflected as np.NaN values."
      ]
    },
    {
      "cell_type": "code",
      "execution_count": 4,
      "metadata": {
        "id": "5N-6IPuP30Ra"
      },
      "outputs": [],
      "source": [
        "energy['Energy Supply'] = energy['Energy Supply']*1000000"
      ]
    },
    {
      "cell_type": "markdown",
      "metadata": {
        "id": "m6TeQvV84U9f"
      },
      "source": [
        "### Question 3\n",
        "There are several countries with numbers and/or parenthesis in their name. Be sure to remove these,\n",
        "\n",
        "e.g.\n",
        "\n",
        "'Bolivia (Plurinational State of)' should be 'Bolivia',\n",
        "\n",
        "'Switzerland17' should be 'Switzerland'.\n",
        "\n"
      ]
    },
    {
      "cell_type": "code",
      "execution_count": 5,
      "metadata": {
        "id": "YprXO-cr4c4O"
      },
      "outputs": [],
      "source": [
        "import re\n",
        "\n",
        "for i in energy['Country'].unique():\n",
        "  energy.loc[energy['Country'] == i, ['Country']] = re.sub(r\"[0-9]+\",\"\",i)\n",
        "  energy.loc[energy['Country'] == i, ['Country']] = re.sub(\"\\(.*\\)\",\"\",i)"
      ]
    },
    {
      "cell_type": "markdown",
      "metadata": {
        "id": "u-7z_rH-4Oh3"
      },
      "source": [
        "### Question 4\n",
        "Rename the following list of countries (for use in later questions):\n",
        "\n",
        "\"Republic of Korea\": \"South Korea\", \"United States of America\": \"United States\", \"United Kingdom of Great Britain and Northern Ireland\": \"United Kingdom\", \"China, Hong Kong Special Administrative Region\": \"Hong Kong\""
      ]
    },
    {
      "cell_type": "code",
      "execution_count": 6,
      "metadata": {
        "id": "RcrwmFWp1P3T"
      },
      "outputs": [],
      "source": [
        "for i in energy['Country'].unique():\n",
        "  if i == \"Republic of Korea\":\n",
        "    energy.loc[energy['Country'] == i, ['Country']] = \"South Korea\"\n",
        "  elif i == \"United States of America\":\n",
        "    energy.loc[energy['Country'] == i, ['Country']] = \"United States\"\n",
        "  elif i == \"United Kingdom of Great Britain and Northern Ireland\":\n",
        "    energy.loc[energy['Country'] == i, ['Country']] = \"United Kingdom\"\n",
        "  elif i == \"China, Hong Kong Special Administrative Region\":\n",
        "    energy.loc[energy['Country'] == i, ['Country']] = \"Hong Kong\""
      ]
    },
    {
      "cell_type": "markdown",
      "metadata": {
        "id": "aLph1dbIDzkG"
      },
      "source": [
        "## Question 5\n",
        "Next, load the GDP data from the file `world_bank.csv`, which is a csv containing countries' GDP from 1960 to 2015 from [World Bank](http://data.worldbank.org/indicator/NY.GDP.MKTP.CD). Call this DataFrame **GDP**. \n",
        "\n",
        "Make sure to skip the header, and rename the following list of countries:\n",
        "\n",
        "```\"Korea, Rep.\": \"South Korea\", \n",
        "\"Iran, Islamic Rep.\": \"Iran\",\n",
        "\"Hong Kong SAR, China\": \"Hong Kong\"```\n",
        "\n",
        "<br>\n",
        "\n",
        "Finally, load the [Sciamgo Journal and Country Rank data for Energy Engineering and Power Technology](http://www.scimagojr.com/countryrank.php?category=2102) from the file `scimagojr-3.xlsx`, which ranks countries based on their journal contributions in the aforementioned area. Call this DataFrame **ScimEn**.\n",
        "\n",
        "Join the three datasets: GDP, Energy, and ScimEn into a new dataset (using the intersection of country names). Use only the last 10 years (2006-2015) of GDP data and only the top 15 countries by Scimagojr 'Rank' (Rank 1 through 15). \n",
        "\n",
        "The index of this DataFrame should be the name of the country, and the columns should be ['Rank', 'Documents', 'Citable documents', 'Citations', 'Self-citations',\n",
        "       'Citations per document', 'H index', 'Energy Supply',\n",
        "       'Energy Supply per Capita', '% Renewable', '2006', '2007', '2008',\n",
        "       '2009', '2010', '2011', '2012', '2013', '2014', '2015'].\n",
        "\n",
        "*Create a function which returns a DataFrame with 20 columns and 15 entries.*"
      ]
    },
    {
      "cell_type": "code",
      "execution_count": 20,
      "metadata": {
        "colab": {
          "base_uri": "https://localhost:8080/",
          "height": 625
        },
        "id": "MLdNaXkYGqOX",
        "outputId": "5e13a143-e992-4a55-983a-f30ef7c7a34b"
      },
      "outputs": [
        {
          "data": {
            "text/html": [
              "<div>\n",
              "<style scoped>\n",
              "    .dataframe tbody tr th:only-of-type {\n",
              "        vertical-align: middle;\n",
              "    }\n",
              "\n",
              "    .dataframe tbody tr th {\n",
              "        vertical-align: top;\n",
              "    }\n",
              "\n",
              "    .dataframe thead th {\n",
              "        text-align: right;\n",
              "    }\n",
              "</style>\n",
              "<table border=\"1\" class=\"dataframe\">\n",
              "  <thead>\n",
              "    <tr style=\"text-align: right;\">\n",
              "      <th></th>\n",
              "      <th>Country</th>\n",
              "      <th>Energy Supply</th>\n",
              "      <th>Energy Supply per Capita</th>\n",
              "      <th>% Renewable</th>\n",
              "      <th>Rank</th>\n",
              "      <th>Documents</th>\n",
              "      <th>Citable documents</th>\n",
              "      <th>Citations</th>\n",
              "      <th>Self-citations</th>\n",
              "      <th>Citations per document</th>\n",
              "      <th>H index</th>\n",
              "      <th>2006</th>\n",
              "      <th>2007</th>\n",
              "      <th>2008</th>\n",
              "      <th>2009</th>\n",
              "      <th>2010</th>\n",
              "      <th>2011</th>\n",
              "      <th>2012</th>\n",
              "      <th>2013</th>\n",
              "      <th>2014</th>\n",
              "      <th>2015</th>\n",
              "    </tr>\n",
              "  </thead>\n",
              "  <tbody>\n",
              "    <tr>\n",
              "      <th>0</th>\n",
              "      <td>Australia</td>\n",
              "      <td>5.386000e+09</td>\n",
              "      <td>231.0</td>\n",
              "      <td>11.810810</td>\n",
              "      <td>14</td>\n",
              "      <td>8831</td>\n",
              "      <td>8725</td>\n",
              "      <td>90765</td>\n",
              "      <td>15606</td>\n",
              "      <td>10.28</td>\n",
              "      <td>107</td>\n",
              "      <td>1.021939e+12</td>\n",
              "      <td>1.060340e+12</td>\n",
              "      <td>1.099644e+12</td>\n",
              "      <td>1.119654e+12</td>\n",
              "      <td>1.142251e+12</td>\n",
              "      <td>1.169431e+12</td>\n",
              "      <td>1.211913e+12</td>\n",
              "      <td>1.241484e+12</td>\n",
              "      <td>1.272520e+12</td>\n",
              "      <td>1.301251e+12</td>\n",
              "    </tr>\n",
              "    <tr>\n",
              "      <th>1</th>\n",
              "      <td>Brazil</td>\n",
              "      <td>1.214900e+10</td>\n",
              "      <td>59.0</td>\n",
              "      <td>69.648030</td>\n",
              "      <td>15</td>\n",
              "      <td>8668</td>\n",
              "      <td>8596</td>\n",
              "      <td>60702</td>\n",
              "      <td>14396</td>\n",
              "      <td>7.00</td>\n",
              "      <td>86</td>\n",
              "      <td>1.845080e+12</td>\n",
              "      <td>1.957118e+12</td>\n",
              "      <td>2.056809e+12</td>\n",
              "      <td>2.054215e+12</td>\n",
              "      <td>2.208872e+12</td>\n",
              "      <td>2.295245e+12</td>\n",
              "      <td>2.339209e+12</td>\n",
              "      <td>2.409740e+12</td>\n",
              "      <td>2.412231e+12</td>\n",
              "      <td>2.319423e+12</td>\n",
              "    </tr>\n",
              "    <tr>\n",
              "      <th>2</th>\n",
              "      <td>Canada</td>\n",
              "      <td>1.043100e+10</td>\n",
              "      <td>296.0</td>\n",
              "      <td>61.945430</td>\n",
              "      <td>6</td>\n",
              "      <td>17899</td>\n",
              "      <td>17620</td>\n",
              "      <td>215003</td>\n",
              "      <td>40930</td>\n",
              "      <td>12.01</td>\n",
              "      <td>149</td>\n",
              "      <td>1.564469e+12</td>\n",
              "      <td>1.596740e+12</td>\n",
              "      <td>1.612713e+12</td>\n",
              "      <td>1.565145e+12</td>\n",
              "      <td>1.613406e+12</td>\n",
              "      <td>1.664087e+12</td>\n",
              "      <td>1.693133e+12</td>\n",
              "      <td>1.730688e+12</td>\n",
              "      <td>1.773486e+12</td>\n",
              "      <td>1.792609e+12</td>\n",
              "    </tr>\n",
              "    <tr>\n",
              "      <th>3</th>\n",
              "      <td>China</td>\n",
              "      <td>1.271910e+11</td>\n",
              "      <td>93.0</td>\n",
              "      <td>19.754910</td>\n",
              "      <td>1</td>\n",
              "      <td>127050</td>\n",
              "      <td>126767</td>\n",
              "      <td>597237</td>\n",
              "      <td>411683</td>\n",
              "      <td>4.70</td>\n",
              "      <td>138</td>\n",
              "      <td>3.992331e+12</td>\n",
              "      <td>4.559041e+12</td>\n",
              "      <td>4.997775e+12</td>\n",
              "      <td>5.459247e+12</td>\n",
              "      <td>6.039659e+12</td>\n",
              "      <td>6.612490e+12</td>\n",
              "      <td>7.124978e+12</td>\n",
              "      <td>7.672448e+12</td>\n",
              "      <td>8.230121e+12</td>\n",
              "      <td>8.797999e+12</td>\n",
              "    </tr>\n",
              "    <tr>\n",
              "      <th>4</th>\n",
              "      <td>France</td>\n",
              "      <td>1.059700e+10</td>\n",
              "      <td>166.0</td>\n",
              "      <td>17.020280</td>\n",
              "      <td>9</td>\n",
              "      <td>13153</td>\n",
              "      <td>12973</td>\n",
              "      <td>130632</td>\n",
              "      <td>28601</td>\n",
              "      <td>9.93</td>\n",
              "      <td>114</td>\n",
              "      <td>2.607840e+12</td>\n",
              "      <td>2.669424e+12</td>\n",
              "      <td>2.674637e+12</td>\n",
              "      <td>2.595967e+12</td>\n",
              "      <td>2.646995e+12</td>\n",
              "      <td>2.702032e+12</td>\n",
              "      <td>2.706968e+12</td>\n",
              "      <td>2.722567e+12</td>\n",
              "      <td>2.729632e+12</td>\n",
              "      <td>2.761185e+12</td>\n",
              "    </tr>\n",
              "    <tr>\n",
              "      <th>5</th>\n",
              "      <td>Germany</td>\n",
              "      <td>1.326100e+10</td>\n",
              "      <td>165.0</td>\n",
              "      <td>17.901530</td>\n",
              "      <td>7</td>\n",
              "      <td>17027</td>\n",
              "      <td>16831</td>\n",
              "      <td>140566</td>\n",
              "      <td>27426</td>\n",
              "      <td>8.26</td>\n",
              "      <td>126</td>\n",
              "      <td>3.332891e+12</td>\n",
              "      <td>3.441561e+12</td>\n",
              "      <td>3.478809e+12</td>\n",
              "      <td>3.283340e+12</td>\n",
              "      <td>3.417298e+12</td>\n",
              "      <td>3.542371e+12</td>\n",
              "      <td>3.556724e+12</td>\n",
              "      <td>3.567317e+12</td>\n",
              "      <td>3.624386e+12</td>\n",
              "      <td>3.685556e+12</td>\n",
              "    </tr>\n",
              "    <tr>\n",
              "      <th>6</th>\n",
              "      <td>India</td>\n",
              "      <td>3.319500e+10</td>\n",
              "      <td>26.0</td>\n",
              "      <td>14.969080</td>\n",
              "      <td>8</td>\n",
              "      <td>15005</td>\n",
              "      <td>14841</td>\n",
              "      <td>128763</td>\n",
              "      <td>37209</td>\n",
              "      <td>8.58</td>\n",
              "      <td>115</td>\n",
              "      <td>1.265894e+12</td>\n",
              "      <td>1.374865e+12</td>\n",
              "      <td>1.428361e+12</td>\n",
              "      <td>1.549483e+12</td>\n",
              "      <td>1.708459e+12</td>\n",
              "      <td>1.821872e+12</td>\n",
              "      <td>1.924235e+12</td>\n",
              "      <td>2.051982e+12</td>\n",
              "      <td>2.200617e+12</td>\n",
              "      <td>2.367206e+12</td>\n",
              "    </tr>\n",
              "    <tr>\n",
              "      <th>7</th>\n",
              "      <td>Italy</td>\n",
              "      <td>6.530000e+09</td>\n",
              "      <td>109.0</td>\n",
              "      <td>33.667230</td>\n",
              "      <td>11</td>\n",
              "      <td>10964</td>\n",
              "      <td>10794</td>\n",
              "      <td>111850</td>\n",
              "      <td>26661</td>\n",
              "      <td>10.20</td>\n",
              "      <td>106</td>\n",
              "      <td>2.202170e+12</td>\n",
              "      <td>2.234627e+12</td>\n",
              "      <td>2.211154e+12</td>\n",
              "      <td>2.089938e+12</td>\n",
              "      <td>2.125185e+12</td>\n",
              "      <td>2.137439e+12</td>\n",
              "      <td>2.077184e+12</td>\n",
              "      <td>2.040871e+12</td>\n",
              "      <td>2.033868e+12</td>\n",
              "      <td>2.049316e+12</td>\n",
              "    </tr>\n",
              "    <tr>\n",
              "      <th>8</th>\n",
              "      <td>Japan</td>\n",
              "      <td>1.898400e+10</td>\n",
              "      <td>149.0</td>\n",
              "      <td>10.232820</td>\n",
              "      <td>3</td>\n",
              "      <td>30504</td>\n",
              "      <td>30287</td>\n",
              "      <td>223024</td>\n",
              "      <td>61554</td>\n",
              "      <td>7.31</td>\n",
              "      <td>134</td>\n",
              "      <td>5.496542e+12</td>\n",
              "      <td>5.617036e+12</td>\n",
              "      <td>5.558527e+12</td>\n",
              "      <td>5.251308e+12</td>\n",
              "      <td>5.498718e+12</td>\n",
              "      <td>5.473738e+12</td>\n",
              "      <td>5.569102e+12</td>\n",
              "      <td>5.644659e+12</td>\n",
              "      <td>5.642884e+12</td>\n",
              "      <td>5.669563e+12</td>\n",
              "    </tr>\n",
              "    <tr>\n",
              "      <th>9</th>\n",
              "      <td>South Korea</td>\n",
              "      <td>1.100700e+10</td>\n",
              "      <td>221.0</td>\n",
              "      <td>2.279353</td>\n",
              "      <td>10</td>\n",
              "      <td>11983</td>\n",
              "      <td>11923</td>\n",
              "      <td>114675</td>\n",
              "      <td>22595</td>\n",
              "      <td>9.57</td>\n",
              "      <td>104</td>\n",
              "      <td>9.410199e+11</td>\n",
              "      <td>9.924316e+11</td>\n",
              "      <td>1.020510e+12</td>\n",
              "      <td>1.027730e+12</td>\n",
              "      <td>1.094499e+12</td>\n",
              "      <td>1.134796e+12</td>\n",
              "      <td>1.160809e+12</td>\n",
              "      <td>1.194429e+12</td>\n",
              "      <td>1.234340e+12</td>\n",
              "      <td>1.266580e+12</td>\n",
              "    </tr>\n",
              "    <tr>\n",
              "      <th>10</th>\n",
              "      <td>Russian Federation</td>\n",
              "      <td>3.070900e+10</td>\n",
              "      <td>214.0</td>\n",
              "      <td>17.288680</td>\n",
              "      <td>5</td>\n",
              "      <td>18534</td>\n",
              "      <td>18301</td>\n",
              "      <td>34266</td>\n",
              "      <td>12422</td>\n",
              "      <td>1.85</td>\n",
              "      <td>57</td>\n",
              "      <td>1.385793e+12</td>\n",
              "      <td>1.504071e+12</td>\n",
              "      <td>1.583004e+12</td>\n",
              "      <td>1.459199e+12</td>\n",
              "      <td>1.524917e+12</td>\n",
              "      <td>1.589943e+12</td>\n",
              "      <td>1.645876e+12</td>\n",
              "      <td>1.666934e+12</td>\n",
              "      <td>1.678709e+12</td>\n",
              "      <td>1.616149e+12</td>\n",
              "    </tr>\n",
              "    <tr>\n",
              "      <th>11</th>\n",
              "      <td>Spain</td>\n",
              "      <td>4.923000e+09</td>\n",
              "      <td>106.0</td>\n",
              "      <td>37.968590</td>\n",
              "      <td>12</td>\n",
              "      <td>9428</td>\n",
              "      <td>9330</td>\n",
              "      <td>123336</td>\n",
              "      <td>23964</td>\n",
              "      <td>13.08</td>\n",
              "      <td>115</td>\n",
              "      <td>1.414823e+12</td>\n",
              "      <td>1.468146e+12</td>\n",
              "      <td>1.484530e+12</td>\n",
              "      <td>1.431475e+12</td>\n",
              "      <td>1.431673e+12</td>\n",
              "      <td>1.417355e+12</td>\n",
              "      <td>1.380216e+12</td>\n",
              "      <td>1.357139e+12</td>\n",
              "      <td>1.375605e+12</td>\n",
              "      <td>1.419821e+12</td>\n",
              "    </tr>\n",
              "    <tr>\n",
              "      <th>12</th>\n",
              "      <td>United Kingdom</td>\n",
              "      <td>7.920000e+09</td>\n",
              "      <td>124.0</td>\n",
              "      <td>10.600470</td>\n",
              "      <td>4</td>\n",
              "      <td>20944</td>\n",
              "      <td>20357</td>\n",
              "      <td>206091</td>\n",
              "      <td>37874</td>\n",
              "      <td>9.84</td>\n",
              "      <td>139</td>\n",
              "      <td>2.419631e+12</td>\n",
              "      <td>2.482203e+12</td>\n",
              "      <td>2.470614e+12</td>\n",
              "      <td>2.367048e+12</td>\n",
              "      <td>2.403504e+12</td>\n",
              "      <td>2.450911e+12</td>\n",
              "      <td>2.479809e+12</td>\n",
              "      <td>2.533370e+12</td>\n",
              "      <td>2.605643e+12</td>\n",
              "      <td>2.666333e+12</td>\n",
              "    </tr>\n",
              "    <tr>\n",
              "      <th>13</th>\n",
              "      <td>United States</td>\n",
              "      <td>9.083800e+10</td>\n",
              "      <td>286.0</td>\n",
              "      <td>11.570980</td>\n",
              "      <td>2</td>\n",
              "      <td>96661</td>\n",
              "      <td>94747</td>\n",
              "      <td>792274</td>\n",
              "      <td>265436</td>\n",
              "      <td>8.20</td>\n",
              "      <td>230</td>\n",
              "      <td>1.479230e+13</td>\n",
              "      <td>1.505540e+13</td>\n",
              "      <td>1.501149e+13</td>\n",
              "      <td>1.459484e+13</td>\n",
              "      <td>1.496437e+13</td>\n",
              "      <td>1.520402e+13</td>\n",
              "      <td>1.554216e+13</td>\n",
              "      <td>1.577367e+13</td>\n",
              "      <td>1.615662e+13</td>\n",
              "      <td>1.654857e+13</td>\n",
              "    </tr>\n",
              "  </tbody>\n",
              "</table>\n",
              "</div>"
            ],
            "text/plain": [
              "               Country  Energy Supply  Energy Supply per Capita  % Renewable  \\\n",
              "0            Australia   5.386000e+09                     231.0    11.810810   \n",
              "1               Brazil   1.214900e+10                      59.0    69.648030   \n",
              "2               Canada   1.043100e+10                     296.0    61.945430   \n",
              "3                China   1.271910e+11                      93.0    19.754910   \n",
              "4               France   1.059700e+10                     166.0    17.020280   \n",
              "5              Germany   1.326100e+10                     165.0    17.901530   \n",
              "6                India   3.319500e+10                      26.0    14.969080   \n",
              "7                Italy   6.530000e+09                     109.0    33.667230   \n",
              "8                Japan   1.898400e+10                     149.0    10.232820   \n",
              "9          South Korea   1.100700e+10                     221.0     2.279353   \n",
              "10  Russian Federation   3.070900e+10                     214.0    17.288680   \n",
              "11               Spain   4.923000e+09                     106.0    37.968590   \n",
              "12      United Kingdom   7.920000e+09                     124.0    10.600470   \n",
              "13       United States   9.083800e+10                     286.0    11.570980   \n",
              "\n",
              "    Rank  Documents  Citable documents  Citations  Self-citations  \\\n",
              "0     14       8831               8725      90765           15606   \n",
              "1     15       8668               8596      60702           14396   \n",
              "2      6      17899              17620     215003           40930   \n",
              "3      1     127050             126767     597237          411683   \n",
              "4      9      13153              12973     130632           28601   \n",
              "5      7      17027              16831     140566           27426   \n",
              "6      8      15005              14841     128763           37209   \n",
              "7     11      10964              10794     111850           26661   \n",
              "8      3      30504              30287     223024           61554   \n",
              "9     10      11983              11923     114675           22595   \n",
              "10     5      18534              18301      34266           12422   \n",
              "11    12       9428               9330     123336           23964   \n",
              "12     4      20944              20357     206091           37874   \n",
              "13     2      96661              94747     792274          265436   \n",
              "\n",
              "    Citations per document  H index          2006          2007          2008  \\\n",
              "0                    10.28      107  1.021939e+12  1.060340e+12  1.099644e+12   \n",
              "1                     7.00       86  1.845080e+12  1.957118e+12  2.056809e+12   \n",
              "2                    12.01      149  1.564469e+12  1.596740e+12  1.612713e+12   \n",
              "3                     4.70      138  3.992331e+12  4.559041e+12  4.997775e+12   \n",
              "4                     9.93      114  2.607840e+12  2.669424e+12  2.674637e+12   \n",
              "5                     8.26      126  3.332891e+12  3.441561e+12  3.478809e+12   \n",
              "6                     8.58      115  1.265894e+12  1.374865e+12  1.428361e+12   \n",
              "7                    10.20      106  2.202170e+12  2.234627e+12  2.211154e+12   \n",
              "8                     7.31      134  5.496542e+12  5.617036e+12  5.558527e+12   \n",
              "9                     9.57      104  9.410199e+11  9.924316e+11  1.020510e+12   \n",
              "10                    1.85       57  1.385793e+12  1.504071e+12  1.583004e+12   \n",
              "11                   13.08      115  1.414823e+12  1.468146e+12  1.484530e+12   \n",
              "12                    9.84      139  2.419631e+12  2.482203e+12  2.470614e+12   \n",
              "13                    8.20      230  1.479230e+13  1.505540e+13  1.501149e+13   \n",
              "\n",
              "            2009          2010          2011          2012          2013  \\\n",
              "0   1.119654e+12  1.142251e+12  1.169431e+12  1.211913e+12  1.241484e+12   \n",
              "1   2.054215e+12  2.208872e+12  2.295245e+12  2.339209e+12  2.409740e+12   \n",
              "2   1.565145e+12  1.613406e+12  1.664087e+12  1.693133e+12  1.730688e+12   \n",
              "3   5.459247e+12  6.039659e+12  6.612490e+12  7.124978e+12  7.672448e+12   \n",
              "4   2.595967e+12  2.646995e+12  2.702032e+12  2.706968e+12  2.722567e+12   \n",
              "5   3.283340e+12  3.417298e+12  3.542371e+12  3.556724e+12  3.567317e+12   \n",
              "6   1.549483e+12  1.708459e+12  1.821872e+12  1.924235e+12  2.051982e+12   \n",
              "7   2.089938e+12  2.125185e+12  2.137439e+12  2.077184e+12  2.040871e+12   \n",
              "8   5.251308e+12  5.498718e+12  5.473738e+12  5.569102e+12  5.644659e+12   \n",
              "9   1.027730e+12  1.094499e+12  1.134796e+12  1.160809e+12  1.194429e+12   \n",
              "10  1.459199e+12  1.524917e+12  1.589943e+12  1.645876e+12  1.666934e+12   \n",
              "11  1.431475e+12  1.431673e+12  1.417355e+12  1.380216e+12  1.357139e+12   \n",
              "12  2.367048e+12  2.403504e+12  2.450911e+12  2.479809e+12  2.533370e+12   \n",
              "13  1.459484e+13  1.496437e+13  1.520402e+13  1.554216e+13  1.577367e+13   \n",
              "\n",
              "            2014          2015  \n",
              "0   1.272520e+12  1.301251e+12  \n",
              "1   2.412231e+12  2.319423e+12  \n",
              "2   1.773486e+12  1.792609e+12  \n",
              "3   8.230121e+12  8.797999e+12  \n",
              "4   2.729632e+12  2.761185e+12  \n",
              "5   3.624386e+12  3.685556e+12  \n",
              "6   2.200617e+12  2.367206e+12  \n",
              "7   2.033868e+12  2.049316e+12  \n",
              "8   5.642884e+12  5.669563e+12  \n",
              "9   1.234340e+12  1.266580e+12  \n",
              "10  1.678709e+12  1.616149e+12  \n",
              "11  1.375605e+12  1.419821e+12  \n",
              "12  2.605643e+12  2.666333e+12  \n",
              "13  1.615662e+13  1.654857e+13  "
            ]
          },
          "execution_count": 20,
          "metadata": {},
          "output_type": "execute_result"
        }
      ],
      "source": [
        "\n",
        "\n",
        "def answer5():\n",
        "    GDP = pd.read_csv('world_bank.csv', header = 0, na_values= '',skiprows = 4, usecols = ['Country Name','2006','2007','2008','2009','2010','2011','2012','2013','2014','2015'])\n",
        "\n",
        "    for i in GDP['Country Name'].unique():\n",
        "        if i == 'Iran, Islamic Rep.':\n",
        "            GDP.loc[GDP['Country Name'] == i, ['Country Name']] = 'Iran'\n",
        "        elif i == 'Hong Kong SAR, China':\n",
        "            GDP.loc[GDP['Country Name'] == i, ['Country Name']] = 'Hong Kong'\n",
        "        elif i == 'Korea, Rep.':\n",
        "            GDP.loc[GDP['Country Name'] == i, ['Country Name']] = 'South Korea'\n",
        "\n",
        "    ScimEn = pd.read_excel('scimagojr-3.xlsx', nrows = 15)\n",
        "    datos = pd.merge(energy, ScimEn, on = 'Country')\n",
        "    datos = pd.merge(datos, GDP, left_on ='Country', right_on = 'Country Name')\n",
        "    datos.drop(['Country Name'], axis = 1, inplace = True)\n",
        "    return datos\n",
        "\n",
        "\n",
        "answer5()"
      ]
    },
    {
      "cell_type": "markdown",
      "metadata": {
        "id": "4dYUbwzZxtzJ"
      },
      "source": [
        "### 6\n",
        "The previous question joined three datasets then reduced this to just the top 15 entries. When you joined the datasets, but before you reduced this to the top 15 items, how many entries did you lose?\n",
        "\n",
        "*Create a function which should return a single number.*"
      ]
    },
    {
      "cell_type": "code",
      "execution_count": 8,
      "metadata": {
        "colab": {
          "base_uri": "https://localhost:8080/"
        },
        "id": "XUBW3J_0xtzK",
        "outputId": "4e576f33-047b-4e86-de5c-3c09f7e6147a",
        "umich_part_id": "010",
        "umich_partlist_id": "003"
      },
      "outputs": [
        {
          "data": {
            "text/plain": [
              "2"
            ]
          },
          "execution_count": 8,
          "metadata": {},
          "output_type": "execute_result"
        }
      ],
      "source": [
        "16 - len(answer5())"
      ]
    },
    {
      "cell_type": "markdown",
      "metadata": {
        "id": "2LZ6WKVZxtzK"
      },
      "source": [
        "## Answer the following questions in the context of only the top 15 countries by Scimagojr Rank (aka the DataFrame returned by question `5`)"
      ]
    },
    {
      "cell_type": "markdown",
      "metadata": {
        "id": "k2ib5x2fxtzL"
      },
      "source": [
        "### Question 7 \n",
        "What is the average GDP over the last 10 years for each country? (exclude missing values from this calculation.)\n",
        "\n",
        "*Create a function which should return a Series named `avgGDP` with 15 countries and their average GDP sorted in descending order.*"
      ]
    },
    {
      "cell_type": "code",
      "execution_count": 9,
      "metadata": {
        "id": "nSBYbjfgxtzL",
        "scrolled": true,
        "umich_part_id": "011",
        "umich_partlist_id": "003"
      },
      "outputs": [
        {
          "data": {
            "text/plain": [
              "0     1.536434e+13\n",
              "1     6.348609e+12\n",
              "2     5.542208e+12\n",
              "3     3.493025e+12\n",
              "4     2.681725e+12\n",
              "5     2.487907e+12\n",
              "6     2.189794e+12\n",
              "7     2.120175e+12\n",
              "8     1.769297e+12\n",
              "9     1.660647e+12\n",
              "10    1.565459e+12\n",
              "11    1.418078e+12\n",
              "12    1.164043e+12\n",
              "13    1.106715e+12\n",
              "dtype: float64"
            ]
          },
          "execution_count": 9,
          "metadata": {},
          "output_type": "execute_result"
        }
      ],
      "source": [
        "from os import truncate\n",
        "\n",
        "\n",
        "def answer7():\n",
        "  prom = pd.DataFrame(answer5(), columns = ['2006','2007','2008','2009','2010','2011','2012','2013','2014','2015'])\n",
        "  avgGDP = prom.mean(axis = 1)\n",
        "  avgGDP.sort_values(inplace = True, ignore_index = True, ascending = False)\n",
        "  return avgGDP\n",
        "\n",
        "\n",
        "meanGDP = answer7()\n",
        "meanGDP"
      ]
    },
    {
      "cell_type": "markdown",
      "metadata": {
        "id": "QGXZlzxXxtzL"
      },
      "source": [
        "### Question 8 \n",
        "By how much had the GDP changed over the 10 year span for the country with the 6th largest average GDP?\n",
        "\n",
        "*Create a function which should return a single number.*"
      ]
    },
    {
      "cell_type": "code",
      "execution_count": 10,
      "metadata": {
        "colab": {
          "base_uri": "https://localhost:8080/"
        },
        "id": "xpG7cp4zxtzM",
        "outputId": "16051a03-fa38-435b-b2f7-98b6af5275db",
        "scrolled": true,
        "umich_part_id": "012",
        "umich_partlist_id": "003"
      },
      "outputs": [
        {
          "data": {
            "text/plain": [
              "228139911279.3601"
            ]
          },
          "execution_count": 10,
          "metadata": {},
          "output_type": "execute_result"
        }
      ],
      "source": [
        "\n",
        "def answer8(df):\n",
        "    return(df.loc[df['Rank'] == 6, '2015'].item() - df.loc[df['Rank'] == 6, '2006'].item())\n",
        "\n",
        "\n",
        "answer8(answer5())"
      ]
    },
    {
      "cell_type": "markdown",
      "metadata": {
        "id": "ADhJMRNVxtzM"
      },
      "source": [
        "### Question 9 \n",
        "What is the mean `Energy Supply per Capita`?\n",
        "\n",
        "*Create a function which should return a single number.*"
      ]
    },
    {
      "cell_type": "code",
      "execution_count": 11,
      "metadata": {
        "id": "NBUCEJbgxtzM",
        "umich_part_id": "013",
        "umich_partlist_id": "003"
      },
      "outputs": [
        {
          "data": {
            "text/plain": [
              "160.35714285714286"
            ]
          },
          "execution_count": 11,
          "metadata": {},
          "output_type": "execute_result"
        }
      ],
      "source": [
        "def answer9():\n",
        "  prom = pd.DataFrame(answer5(), columns = ['Energy Supply per Capita'])\n",
        "  avgESPC = prom.mean(axis = 1)\n",
        "  avgESPC = avgESPC.mean(axis = 0)\n",
        "  return avgESPC\n",
        "\n",
        "\n",
        "meanASPC = answer9()\n",
        "meanASPC"
      ]
    },
    {
      "cell_type": "markdown",
      "metadata": {
        "id": "IY5D_6XtxtzM"
      },
      "source": [
        "### Question 10 \n",
        "What country has the maximum % Renewable and what is the percentage?\n",
        "\n",
        "*Create a function which should return a tuple with the name of the country and the percentage.*"
      ]
    },
    {
      "cell_type": "code",
      "execution_count": 12,
      "metadata": {
        "colab": {
          "base_uri": "https://localhost:8080/",
          "height": 130
        },
        "id": "jXu1U2_zxtzN",
        "outputId": "d02991a5-4c86-4af1-db06-ed3de3499ef4",
        "umich_part_id": "014",
        "umich_partlist_id": "003"
      },
      "outputs": [
        {
          "name": "stdout",
          "output_type": "stream",
          "text": [
            "('Brazil', 69.64803)\n"
          ]
        }
      ],
      "source": [
        "def answer10():\n",
        "    y = pd.DataFrame(answer5(), columns = ['% Renewable']).max().item()\n",
        "    x = answer5().loc[answer5()['% Renewable'] == y, 'Country'].item()\n",
        "    tupl= (x,y)\n",
        "    return tupl\n",
        "print(answer10())\n"
      ]
    },
    {
      "cell_type": "code",
      "execution_count": 13,
      "metadata": {},
      "outputs": [
        {
          "data": {
            "text/html": [
              "<div>\n",
              "<style scoped>\n",
              "    .dataframe tbody tr th:only-of-type {\n",
              "        vertical-align: middle;\n",
              "    }\n",
              "\n",
              "    .dataframe tbody tr th {\n",
              "        vertical-align: top;\n",
              "    }\n",
              "\n",
              "    .dataframe thead th {\n",
              "        text-align: right;\n",
              "    }\n",
              "</style>\n",
              "<table border=\"1\" class=\"dataframe\">\n",
              "  <thead>\n",
              "    <tr style=\"text-align: right;\">\n",
              "      <th></th>\n",
              "      <th>Country</th>\n",
              "      <th>Energy Supply</th>\n",
              "      <th>Energy Supply per Capita</th>\n",
              "      <th>% Renewable</th>\n",
              "      <th>Rank</th>\n",
              "      <th>Documents</th>\n",
              "      <th>Citable documents</th>\n",
              "      <th>Citations</th>\n",
              "      <th>Self-citations</th>\n",
              "      <th>Citations per document</th>\n",
              "      <th>H index</th>\n",
              "      <th>Country Name</th>\n",
              "      <th>2006</th>\n",
              "      <th>2007</th>\n",
              "      <th>2008</th>\n",
              "      <th>2009</th>\n",
              "      <th>2010</th>\n",
              "      <th>2011</th>\n",
              "      <th>2012</th>\n",
              "      <th>2013</th>\n",
              "      <th>2014</th>\n",
              "      <th>2015</th>\n",
              "    </tr>\n",
              "  </thead>\n",
              "  <tbody>\n",
              "    <tr>\n",
              "      <th>0</th>\n",
              "      <td>Australia</td>\n",
              "      <td>5.386000e+09</td>\n",
              "      <td>231.0</td>\n",
              "      <td>11.810810</td>\n",
              "      <td>14</td>\n",
              "      <td>8831</td>\n",
              "      <td>8725</td>\n",
              "      <td>90765</td>\n",
              "      <td>15606</td>\n",
              "      <td>10.28</td>\n",
              "      <td>107</td>\n",
              "      <td>Australia</td>\n",
              "      <td>1.021939e+12</td>\n",
              "      <td>1.060340e+12</td>\n",
              "      <td>1.099644e+12</td>\n",
              "      <td>1.119654e+12</td>\n",
              "      <td>1.142251e+12</td>\n",
              "      <td>1.169431e+12</td>\n",
              "      <td>1.211913e+12</td>\n",
              "      <td>1.241484e+12</td>\n",
              "      <td>1.272520e+12</td>\n",
              "      <td>1.301251e+12</td>\n",
              "    </tr>\n",
              "    <tr>\n",
              "      <th>1</th>\n",
              "      <td>Brazil</td>\n",
              "      <td>1.214900e+10</td>\n",
              "      <td>59.0</td>\n",
              "      <td>69.648030</td>\n",
              "      <td>15</td>\n",
              "      <td>8668</td>\n",
              "      <td>8596</td>\n",
              "      <td>60702</td>\n",
              "      <td>14396</td>\n",
              "      <td>7.00</td>\n",
              "      <td>86</td>\n",
              "      <td>Brazil</td>\n",
              "      <td>1.845080e+12</td>\n",
              "      <td>1.957118e+12</td>\n",
              "      <td>2.056809e+12</td>\n",
              "      <td>2.054215e+12</td>\n",
              "      <td>2.208872e+12</td>\n",
              "      <td>2.295245e+12</td>\n",
              "      <td>2.339209e+12</td>\n",
              "      <td>2.409740e+12</td>\n",
              "      <td>2.412231e+12</td>\n",
              "      <td>2.319423e+12</td>\n",
              "    </tr>\n",
              "    <tr>\n",
              "      <th>2</th>\n",
              "      <td>Canada</td>\n",
              "      <td>1.043100e+10</td>\n",
              "      <td>296.0</td>\n",
              "      <td>61.945430</td>\n",
              "      <td>6</td>\n",
              "      <td>17899</td>\n",
              "      <td>17620</td>\n",
              "      <td>215003</td>\n",
              "      <td>40930</td>\n",
              "      <td>12.01</td>\n",
              "      <td>149</td>\n",
              "      <td>Canada</td>\n",
              "      <td>1.564469e+12</td>\n",
              "      <td>1.596740e+12</td>\n",
              "      <td>1.612713e+12</td>\n",
              "      <td>1.565145e+12</td>\n",
              "      <td>1.613406e+12</td>\n",
              "      <td>1.664087e+12</td>\n",
              "      <td>1.693133e+12</td>\n",
              "      <td>1.730688e+12</td>\n",
              "      <td>1.773486e+12</td>\n",
              "      <td>1.792609e+12</td>\n",
              "    </tr>\n",
              "    <tr>\n",
              "      <th>3</th>\n",
              "      <td>China</td>\n",
              "      <td>1.271910e+11</td>\n",
              "      <td>93.0</td>\n",
              "      <td>19.754910</td>\n",
              "      <td>1</td>\n",
              "      <td>127050</td>\n",
              "      <td>126767</td>\n",
              "      <td>597237</td>\n",
              "      <td>411683</td>\n",
              "      <td>4.70</td>\n",
              "      <td>138</td>\n",
              "      <td>China</td>\n",
              "      <td>3.992331e+12</td>\n",
              "      <td>4.559041e+12</td>\n",
              "      <td>4.997775e+12</td>\n",
              "      <td>5.459247e+12</td>\n",
              "      <td>6.039659e+12</td>\n",
              "      <td>6.612490e+12</td>\n",
              "      <td>7.124978e+12</td>\n",
              "      <td>7.672448e+12</td>\n",
              "      <td>8.230121e+12</td>\n",
              "      <td>8.797999e+12</td>\n",
              "    </tr>\n",
              "    <tr>\n",
              "      <th>4</th>\n",
              "      <td>France</td>\n",
              "      <td>1.059700e+10</td>\n",
              "      <td>166.0</td>\n",
              "      <td>17.020280</td>\n",
              "      <td>9</td>\n",
              "      <td>13153</td>\n",
              "      <td>12973</td>\n",
              "      <td>130632</td>\n",
              "      <td>28601</td>\n",
              "      <td>9.93</td>\n",
              "      <td>114</td>\n",
              "      <td>France</td>\n",
              "      <td>2.607840e+12</td>\n",
              "      <td>2.669424e+12</td>\n",
              "      <td>2.674637e+12</td>\n",
              "      <td>2.595967e+12</td>\n",
              "      <td>2.646995e+12</td>\n",
              "      <td>2.702032e+12</td>\n",
              "      <td>2.706968e+12</td>\n",
              "      <td>2.722567e+12</td>\n",
              "      <td>2.729632e+12</td>\n",
              "      <td>2.761185e+12</td>\n",
              "    </tr>\n",
              "    <tr>\n",
              "      <th>5</th>\n",
              "      <td>Germany</td>\n",
              "      <td>1.326100e+10</td>\n",
              "      <td>165.0</td>\n",
              "      <td>17.901530</td>\n",
              "      <td>7</td>\n",
              "      <td>17027</td>\n",
              "      <td>16831</td>\n",
              "      <td>140566</td>\n",
              "      <td>27426</td>\n",
              "      <td>8.26</td>\n",
              "      <td>126</td>\n",
              "      <td>Germany</td>\n",
              "      <td>3.332891e+12</td>\n",
              "      <td>3.441561e+12</td>\n",
              "      <td>3.478809e+12</td>\n",
              "      <td>3.283340e+12</td>\n",
              "      <td>3.417298e+12</td>\n",
              "      <td>3.542371e+12</td>\n",
              "      <td>3.556724e+12</td>\n",
              "      <td>3.567317e+12</td>\n",
              "      <td>3.624386e+12</td>\n",
              "      <td>3.685556e+12</td>\n",
              "    </tr>\n",
              "    <tr>\n",
              "      <th>6</th>\n",
              "      <td>India</td>\n",
              "      <td>3.319500e+10</td>\n",
              "      <td>26.0</td>\n",
              "      <td>14.969080</td>\n",
              "      <td>8</td>\n",
              "      <td>15005</td>\n",
              "      <td>14841</td>\n",
              "      <td>128763</td>\n",
              "      <td>37209</td>\n",
              "      <td>8.58</td>\n",
              "      <td>115</td>\n",
              "      <td>India</td>\n",
              "      <td>1.265894e+12</td>\n",
              "      <td>1.374865e+12</td>\n",
              "      <td>1.428361e+12</td>\n",
              "      <td>1.549483e+12</td>\n",
              "      <td>1.708459e+12</td>\n",
              "      <td>1.821872e+12</td>\n",
              "      <td>1.924235e+12</td>\n",
              "      <td>2.051982e+12</td>\n",
              "      <td>2.200617e+12</td>\n",
              "      <td>2.367206e+12</td>\n",
              "    </tr>\n",
              "    <tr>\n",
              "      <th>7</th>\n",
              "      <td>Italy</td>\n",
              "      <td>6.530000e+09</td>\n",
              "      <td>109.0</td>\n",
              "      <td>33.667230</td>\n",
              "      <td>11</td>\n",
              "      <td>10964</td>\n",
              "      <td>10794</td>\n",
              "      <td>111850</td>\n",
              "      <td>26661</td>\n",
              "      <td>10.20</td>\n",
              "      <td>106</td>\n",
              "      <td>Italy</td>\n",
              "      <td>2.202170e+12</td>\n",
              "      <td>2.234627e+12</td>\n",
              "      <td>2.211154e+12</td>\n",
              "      <td>2.089938e+12</td>\n",
              "      <td>2.125185e+12</td>\n",
              "      <td>2.137439e+12</td>\n",
              "      <td>2.077184e+12</td>\n",
              "      <td>2.040871e+12</td>\n",
              "      <td>2.033868e+12</td>\n",
              "      <td>2.049316e+12</td>\n",
              "    </tr>\n",
              "    <tr>\n",
              "      <th>8</th>\n",
              "      <td>Japan</td>\n",
              "      <td>1.898400e+10</td>\n",
              "      <td>149.0</td>\n",
              "      <td>10.232820</td>\n",
              "      <td>3</td>\n",
              "      <td>30504</td>\n",
              "      <td>30287</td>\n",
              "      <td>223024</td>\n",
              "      <td>61554</td>\n",
              "      <td>7.31</td>\n",
              "      <td>134</td>\n",
              "      <td>Japan</td>\n",
              "      <td>5.496542e+12</td>\n",
              "      <td>5.617036e+12</td>\n",
              "      <td>5.558527e+12</td>\n",
              "      <td>5.251308e+12</td>\n",
              "      <td>5.498718e+12</td>\n",
              "      <td>5.473738e+12</td>\n",
              "      <td>5.569102e+12</td>\n",
              "      <td>5.644659e+12</td>\n",
              "      <td>5.642884e+12</td>\n",
              "      <td>5.669563e+12</td>\n",
              "    </tr>\n",
              "    <tr>\n",
              "      <th>9</th>\n",
              "      <td>South Korea</td>\n",
              "      <td>1.100700e+10</td>\n",
              "      <td>221.0</td>\n",
              "      <td>2.279353</td>\n",
              "      <td>10</td>\n",
              "      <td>11983</td>\n",
              "      <td>11923</td>\n",
              "      <td>114675</td>\n",
              "      <td>22595</td>\n",
              "      <td>9.57</td>\n",
              "      <td>104</td>\n",
              "      <td>South Korea</td>\n",
              "      <td>9.410199e+11</td>\n",
              "      <td>9.924316e+11</td>\n",
              "      <td>1.020510e+12</td>\n",
              "      <td>1.027730e+12</td>\n",
              "      <td>1.094499e+12</td>\n",
              "      <td>1.134796e+12</td>\n",
              "      <td>1.160809e+12</td>\n",
              "      <td>1.194429e+12</td>\n",
              "      <td>1.234340e+12</td>\n",
              "      <td>1.266580e+12</td>\n",
              "    </tr>\n",
              "    <tr>\n",
              "      <th>10</th>\n",
              "      <td>Russian Federation</td>\n",
              "      <td>3.070900e+10</td>\n",
              "      <td>214.0</td>\n",
              "      <td>17.288680</td>\n",
              "      <td>5</td>\n",
              "      <td>18534</td>\n",
              "      <td>18301</td>\n",
              "      <td>34266</td>\n",
              "      <td>12422</td>\n",
              "      <td>1.85</td>\n",
              "      <td>57</td>\n",
              "      <td>Russian Federation</td>\n",
              "      <td>1.385793e+12</td>\n",
              "      <td>1.504071e+12</td>\n",
              "      <td>1.583004e+12</td>\n",
              "      <td>1.459199e+12</td>\n",
              "      <td>1.524917e+12</td>\n",
              "      <td>1.589943e+12</td>\n",
              "      <td>1.645876e+12</td>\n",
              "      <td>1.666934e+12</td>\n",
              "      <td>1.678709e+12</td>\n",
              "      <td>1.616149e+12</td>\n",
              "    </tr>\n",
              "    <tr>\n",
              "      <th>11</th>\n",
              "      <td>Spain</td>\n",
              "      <td>4.923000e+09</td>\n",
              "      <td>106.0</td>\n",
              "      <td>37.968590</td>\n",
              "      <td>12</td>\n",
              "      <td>9428</td>\n",
              "      <td>9330</td>\n",
              "      <td>123336</td>\n",
              "      <td>23964</td>\n",
              "      <td>13.08</td>\n",
              "      <td>115</td>\n",
              "      <td>Spain</td>\n",
              "      <td>1.414823e+12</td>\n",
              "      <td>1.468146e+12</td>\n",
              "      <td>1.484530e+12</td>\n",
              "      <td>1.431475e+12</td>\n",
              "      <td>1.431673e+12</td>\n",
              "      <td>1.417355e+12</td>\n",
              "      <td>1.380216e+12</td>\n",
              "      <td>1.357139e+12</td>\n",
              "      <td>1.375605e+12</td>\n",
              "      <td>1.419821e+12</td>\n",
              "    </tr>\n",
              "    <tr>\n",
              "      <th>12</th>\n",
              "      <td>United Kingdom</td>\n",
              "      <td>7.920000e+09</td>\n",
              "      <td>124.0</td>\n",
              "      <td>10.600470</td>\n",
              "      <td>4</td>\n",
              "      <td>20944</td>\n",
              "      <td>20357</td>\n",
              "      <td>206091</td>\n",
              "      <td>37874</td>\n",
              "      <td>9.84</td>\n",
              "      <td>139</td>\n",
              "      <td>United Kingdom</td>\n",
              "      <td>2.419631e+12</td>\n",
              "      <td>2.482203e+12</td>\n",
              "      <td>2.470614e+12</td>\n",
              "      <td>2.367048e+12</td>\n",
              "      <td>2.403504e+12</td>\n",
              "      <td>2.450911e+12</td>\n",
              "      <td>2.479809e+12</td>\n",
              "      <td>2.533370e+12</td>\n",
              "      <td>2.605643e+12</td>\n",
              "      <td>2.666333e+12</td>\n",
              "    </tr>\n",
              "    <tr>\n",
              "      <th>13</th>\n",
              "      <td>United States</td>\n",
              "      <td>9.083800e+10</td>\n",
              "      <td>286.0</td>\n",
              "      <td>11.570980</td>\n",
              "      <td>2</td>\n",
              "      <td>96661</td>\n",
              "      <td>94747</td>\n",
              "      <td>792274</td>\n",
              "      <td>265436</td>\n",
              "      <td>8.20</td>\n",
              "      <td>230</td>\n",
              "      <td>United States</td>\n",
              "      <td>1.479230e+13</td>\n",
              "      <td>1.505540e+13</td>\n",
              "      <td>1.501149e+13</td>\n",
              "      <td>1.459484e+13</td>\n",
              "      <td>1.496437e+13</td>\n",
              "      <td>1.520402e+13</td>\n",
              "      <td>1.554216e+13</td>\n",
              "      <td>1.577367e+13</td>\n",
              "      <td>1.615662e+13</td>\n",
              "      <td>1.654857e+13</td>\n",
              "    </tr>\n",
              "  </tbody>\n",
              "</table>\n",
              "</div>"
            ],
            "text/plain": [
              "               Country  Energy Supply  Energy Supply per Capita  % Renewable  \\\n",
              "0            Australia   5.386000e+09                     231.0    11.810810   \n",
              "1               Brazil   1.214900e+10                      59.0    69.648030   \n",
              "2               Canada   1.043100e+10                     296.0    61.945430   \n",
              "3                China   1.271910e+11                      93.0    19.754910   \n",
              "4               France   1.059700e+10                     166.0    17.020280   \n",
              "5              Germany   1.326100e+10                     165.0    17.901530   \n",
              "6                India   3.319500e+10                      26.0    14.969080   \n",
              "7                Italy   6.530000e+09                     109.0    33.667230   \n",
              "8                Japan   1.898400e+10                     149.0    10.232820   \n",
              "9          South Korea   1.100700e+10                     221.0     2.279353   \n",
              "10  Russian Federation   3.070900e+10                     214.0    17.288680   \n",
              "11               Spain   4.923000e+09                     106.0    37.968590   \n",
              "12      United Kingdom   7.920000e+09                     124.0    10.600470   \n",
              "13       United States   9.083800e+10                     286.0    11.570980   \n",
              "\n",
              "    Rank  Documents  Citable documents  Citations  Self-citations  \\\n",
              "0     14       8831               8725      90765           15606   \n",
              "1     15       8668               8596      60702           14396   \n",
              "2      6      17899              17620     215003           40930   \n",
              "3      1     127050             126767     597237          411683   \n",
              "4      9      13153              12973     130632           28601   \n",
              "5      7      17027              16831     140566           27426   \n",
              "6      8      15005              14841     128763           37209   \n",
              "7     11      10964              10794     111850           26661   \n",
              "8      3      30504              30287     223024           61554   \n",
              "9     10      11983              11923     114675           22595   \n",
              "10     5      18534              18301      34266           12422   \n",
              "11    12       9428               9330     123336           23964   \n",
              "12     4      20944              20357     206091           37874   \n",
              "13     2      96661              94747     792274          265436   \n",
              "\n",
              "    Citations per document  H index        Country Name          2006  \\\n",
              "0                    10.28      107           Australia  1.021939e+12   \n",
              "1                     7.00       86              Brazil  1.845080e+12   \n",
              "2                    12.01      149              Canada  1.564469e+12   \n",
              "3                     4.70      138               China  3.992331e+12   \n",
              "4                     9.93      114              France  2.607840e+12   \n",
              "5                     8.26      126             Germany  3.332891e+12   \n",
              "6                     8.58      115               India  1.265894e+12   \n",
              "7                    10.20      106               Italy  2.202170e+12   \n",
              "8                     7.31      134               Japan  5.496542e+12   \n",
              "9                     9.57      104         South Korea  9.410199e+11   \n",
              "10                    1.85       57  Russian Federation  1.385793e+12   \n",
              "11                   13.08      115               Spain  1.414823e+12   \n",
              "12                    9.84      139      United Kingdom  2.419631e+12   \n",
              "13                    8.20      230       United States  1.479230e+13   \n",
              "\n",
              "            2007          2008          2009          2010          2011  \\\n",
              "0   1.060340e+12  1.099644e+12  1.119654e+12  1.142251e+12  1.169431e+12   \n",
              "1   1.957118e+12  2.056809e+12  2.054215e+12  2.208872e+12  2.295245e+12   \n",
              "2   1.596740e+12  1.612713e+12  1.565145e+12  1.613406e+12  1.664087e+12   \n",
              "3   4.559041e+12  4.997775e+12  5.459247e+12  6.039659e+12  6.612490e+12   \n",
              "4   2.669424e+12  2.674637e+12  2.595967e+12  2.646995e+12  2.702032e+12   \n",
              "5   3.441561e+12  3.478809e+12  3.283340e+12  3.417298e+12  3.542371e+12   \n",
              "6   1.374865e+12  1.428361e+12  1.549483e+12  1.708459e+12  1.821872e+12   \n",
              "7   2.234627e+12  2.211154e+12  2.089938e+12  2.125185e+12  2.137439e+12   \n",
              "8   5.617036e+12  5.558527e+12  5.251308e+12  5.498718e+12  5.473738e+12   \n",
              "9   9.924316e+11  1.020510e+12  1.027730e+12  1.094499e+12  1.134796e+12   \n",
              "10  1.504071e+12  1.583004e+12  1.459199e+12  1.524917e+12  1.589943e+12   \n",
              "11  1.468146e+12  1.484530e+12  1.431475e+12  1.431673e+12  1.417355e+12   \n",
              "12  2.482203e+12  2.470614e+12  2.367048e+12  2.403504e+12  2.450911e+12   \n",
              "13  1.505540e+13  1.501149e+13  1.459484e+13  1.496437e+13  1.520402e+13   \n",
              "\n",
              "            2012          2013          2014          2015  \n",
              "0   1.211913e+12  1.241484e+12  1.272520e+12  1.301251e+12  \n",
              "1   2.339209e+12  2.409740e+12  2.412231e+12  2.319423e+12  \n",
              "2   1.693133e+12  1.730688e+12  1.773486e+12  1.792609e+12  \n",
              "3   7.124978e+12  7.672448e+12  8.230121e+12  8.797999e+12  \n",
              "4   2.706968e+12  2.722567e+12  2.729632e+12  2.761185e+12  \n",
              "5   3.556724e+12  3.567317e+12  3.624386e+12  3.685556e+12  \n",
              "6   1.924235e+12  2.051982e+12  2.200617e+12  2.367206e+12  \n",
              "7   2.077184e+12  2.040871e+12  2.033868e+12  2.049316e+12  \n",
              "8   5.569102e+12  5.644659e+12  5.642884e+12  5.669563e+12  \n",
              "9   1.160809e+12  1.194429e+12  1.234340e+12  1.266580e+12  \n",
              "10  1.645876e+12  1.666934e+12  1.678709e+12  1.616149e+12  \n",
              "11  1.380216e+12  1.357139e+12  1.375605e+12  1.419821e+12  \n",
              "12  2.479809e+12  2.533370e+12  2.605643e+12  2.666333e+12  \n",
              "13  1.554216e+13  1.577367e+13  1.615662e+13  1.654857e+13  "
            ]
          },
          "execution_count": 13,
          "metadata": {},
          "output_type": "execute_result"
        }
      ],
      "source": [
        "answer5()"
      ]
    },
    {
      "cell_type": "markdown",
      "metadata": {
        "id": "QfuTfZz8xtzN"
      },
      "source": [
        "### Question 11 \n",
        "Create a new column that is the ratio of Self-Citations to Total Citations. \n",
        "What is the maximum value for this new column, and what country has the highest ratio?\n",
        "\n",
        "*Create a function which should return a tuple with the name of the country and the ratio.*"
      ]
    },
    {
      "cell_type": "code",
      "execution_count": 14,
      "metadata": {
        "id": "Vp3JI-n5xtzN",
        "umich_part_id": "015",
        "umich_partlist_id": "003"
      },
      "outputs": [
        {
          "data": {
            "text/plain": [
              "('Australia', 0.17193852255825484)"
            ]
          },
          "execution_count": 14,
          "metadata": {},
          "output_type": "execute_result"
        }
      ],
      "source": [
        "def answer11():\n",
        "    temp = pd.DataFrame(answer5(), columns = ['Country', 'Citations', 'Self-citations'])\n",
        "    temp['Ratio'] = temp['Self-citations'] / temp['Citations']\n",
        "    temp = temp.sort_values('Ratio', ascending = False)\n",
        "    tupl = (temp.at[0,'Country'], temp.at[0,'Ratio'])\n",
        "    return tupl\n",
        "answer11()"
      ]
    },
    {
      "cell_type": "markdown",
      "metadata": {
        "id": "yOeiTQSzxtzN"
      },
      "source": [
        "### Question 12 \n",
        "\n",
        "Create a column that estimates the population using Energy Supply and Energy Supply per capita. \n",
        "What is the third most populous country according to this estimate?\n",
        "\n",
        "*Create a function which should return a single string value.*"
      ]
    },
    {
      "cell_type": "code",
      "execution_count": 15,
      "metadata": {
        "id": "wtaJSv5txtzO",
        "umich_part_id": "016",
        "umich_partlist_id": "003"
      },
      "outputs": [
        {
          "data": {
            "text/plain": [
              "'United States'"
            ]
          },
          "execution_count": 15,
          "metadata": {},
          "output_type": "execute_result"
        }
      ],
      "source": [
        "def answer12():\n",
        "    temp = pd.DataFrame(answer5(), columns = ['Country', 'Energy Supply', 'Energy Supply per Capita'])\n",
        "    temp['Population'] = temp['Energy Supply'] / temp['Energy Supply per Capita']\n",
        "    temp = temp.sort_values('Population', ascending = False, ignore_index= True)\n",
        "    return temp.loc[2,'Country']\n",
        "answer12()\n"
      ]
    },
    {
      "cell_type": "markdown",
      "metadata": {
        "id": "cOSlghhWxtzO"
      },
      "source": [
        "### Question 13 \n",
        "Create a column that estimates the number of citable documents per person. \n",
        "What is the correlation between the number of citable documents per capita and the energy supply per capita? Use the `.corr()` method, (Pearson's correlation).\n",
        "\n",
        "*Create a function which should return a single number.*\n",
        "\n",
        "*(Optional: Use the built-in function `plot9()` to visualize the relationship between Energy Supply per Capita vs. Citable docs per Capita)*"
      ]
    },
    {
      "cell_type": "code",
      "execution_count": 16,
      "metadata": {
        "id": "MoKayXRwxtzO",
        "umich_part_id": "017",
        "umich_partlist_id": "003"
      },
      "outputs": [
        {
          "data": {
            "text/plain": [
              "0.7901935488300874"
            ]
          },
          "execution_count": 16,
          "metadata": {},
          "output_type": "execute_result"
        }
      ],
      "source": [
        "def answer13():\n",
        "    temp = pd.DataFrame(answer5(), columns = ['Country', 'Energy Supply', 'Energy Supply per Capita','Citable documents', 'Citations', 'Self-citations'])\n",
        "    temp['Ratio'] = temp['Self-citations'] / temp['Citations']\n",
        "    temp['Population'] = temp['Energy Supply'] / temp['Energy Supply per Capita']\n",
        "    temp['Citable documents per capita'] = temp['Citable documents'] / temp['Population']\n",
        "    corr = temp['Citable documents per capita'].corr(temp['Energy Supply per Capita'])\n",
        "    return corr\n",
        "answer13()\n"
      ]
    },
    {
      "cell_type": "markdown",
      "metadata": {
        "id": "pPd56j14xtzP"
      },
      "source": [
        "### Question 14 \n",
        "Create a new column with a 1 if the country's % Renewable value is at or above the median for all countries in the top 15, and a 0 if the country's % Renewable value is below the median.\n",
        "\n",
        "*Create a function which should return a series named `HighRenew` whose index is the country name sorted in ascending order of rank.*"
      ]
    },
    {
      "cell_type": "code",
      "execution_count": 17,
      "metadata": {
        "id": "sRgfjeBfxtzP",
        "umich_part_id": "018",
        "umich_partlist_id": "003"
      },
      "outputs": [
        {
          "name": "stdout",
          "output_type": "stream",
          "text": [
            "0     19.754910\n",
            "1     11.570980\n",
            "2     10.232820\n",
            "3     10.600470\n",
            "4     17.288680\n",
            "5     61.945430\n",
            "6     17.901530\n",
            "7     14.969080\n",
            "8     17.020280\n",
            "9      2.279353\n",
            "10    33.667230\n",
            "11    37.968590\n",
            "12    11.810810\n",
            "13    69.648030\n",
            "Name: % Renewable, dtype: float64\n"
          ]
        }
      ],
      "source": [
        "def answer14():\n",
        "    temp = pd.DataFrame(answer5(), columns = ['Country', '% Renewable', 'Rank'] )\n",
        "    med = temp['% Renewable'].median(axis = 0).item()\n",
        "    median = []\n",
        "    for i in temp['% Renewable'].unique():\n",
        "        if i > med:\n",
        "            median.append(1)\n",
        "        else:\n",
        "            median.append(0)\n",
        "    temp['Median'] = median\n",
        "    temp.sort_values(by = ['Rank'], ascending = True, inplace = True, ignore_index= True)\n",
        "    HighRenew = temp['% Renewable'].squeeze()\n",
        "    countries = []\n",
        "    for i in temp['Country'].unique():\n",
        "        countries.append(i)\n",
        "    HighRenew.reindex(index = countries)\n",
        "    return HighRenew\n",
        "print(answer14())"
      ]
    },
    {
      "cell_type": "markdown",
      "metadata": {
        "id": "cyQYSpJIxtzP"
      },
      "source": [
        "### Question 15 \n",
        "Use the following dictionary to group the Countries by Continent, then create a dateframe that displays the sample size (the number of countries in each continent bin), and the sum, mean, and std deviation for the estimated population of each country.\n",
        "\n",
        "```python\n",
        "ContinentDict  = {'China':'Asia', \n",
        "                  'United States':'North America', \n",
        "                  'Japan':'Asia', \n",
        "                  'United Kingdom':'Europe', \n",
        "                  'Russian Federation':'Europe', \n",
        "                  'Canada':'North America', \n",
        "                  'Germany':'Europe', \n",
        "                  'India':'Asia',\n",
        "                  'France':'Europe', \n",
        "                  'South Korea':'Asia', \n",
        "                  'Italy':'Europe', \n",
        "                  'Spain':'Europe', \n",
        "                  'Iran':'Asia',\n",
        "                  'Australia':'Australia', \n",
        "                  'Brazil':'South America'}\n",
        "```\n",
        "\n",
        "*Create a function which should return a DataFrame with index named Continent `['Asia', 'Australia', 'Europe', 'North America', 'South America']` and columns `['size', 'sum', 'mean', 'std']`*"
      ]
    },
    {
      "cell_type": "code",
      "execution_count": 36,
      "metadata": {
        "id": "cWkbMW_8xtzP",
        "umich_part_id": "019",
        "umich_partlist_id": "003"
      },
      "outputs": [
        {
          "name": "stdout",
          "output_type": "stream",
          "text": [
            "                       mean  size           sum           std\n",
            "Continent                                                    \n",
            "Asia           7.053977e+08     4  2.821591e+09  7.138779e+08\n",
            "Australia      2.331602e+07     1  2.331602e+07           NaN\n",
            "Europe         7.632161e+07     6  4.579297e+08  3.464767e+07\n",
            "North America  1.764276e+08     2  3.528552e+08  1.996696e+08\n",
            "South America  2.059153e+08     1  2.059153e+08           NaN\n"
          ]
        }
      ],
      "source": [
        "ContinentDict  = {'China':'Asia', 'United States':'North America', 'Japan':'Asia', 'United Kingdom':'Europe', 'Russian Federation':'Europe',\n",
        "                   'Canada':'North America', 'Germany':'Europe', 'India':'Asia', 'France':'Europe', 'South Korea':'Asia', 'Italy':'Europe',\n",
        "                    'Spain':'Europe', 'Iran':'Asia', 'Australia':'Australia', 'Brazil':'South America'}\n",
        "\n",
        "\n",
        "def answer15():\n",
        "    temp = answer5()\n",
        "    temp['Population'] = temp['Energy Supply'] / temp['Energy Supply per Capita']\n",
        "    Continent = pd.DataFrame.from_dict(ContinentDict, orient = 'index', columns = ['Continent'])\n",
        "    temp = temp.merge(Continent, left_on = 'Country', right_index = True)\n",
        "    frame = {'mean': (temp.groupby('Continent')['Population'].mean())}\n",
        "    res = pd.DataFrame(frame)\n",
        "    res.rename(columns = {'Population' : 'mean'}, inplace = True)\n",
        "    res['size']  = temp.groupby('Continent')['Country'].count()\n",
        "    res['sum'] = temp.groupby('Continent')['Population'].sum()\n",
        "    res['std'] = temp.groupby('Continent')['Population'].std()\n",
        "    return res\n",
        "print(answer15())"
      ]
    },
    {
      "cell_type": "markdown",
      "metadata": {
        "id": "Vqfngp00xtzQ"
      },
      "source": [
        "### Question 16 \n",
        "Cut % Renewable into 5 bins. Group Top15 by the Continent, as well as these new % Renewable bins. How many countries are in each of these groups?\n",
        "\n",
        "*Create a function which should return a __Series__ with a MultiIndex of `Continent`, then the bins for `% Renewable`. Do not include groups with no countries.*"
      ]
    },
    {
      "cell_type": "code",
      "execution_count": null,
      "metadata": {
        "id": "uXaAjn3_xtzQ",
        "scrolled": true
      },
      "outputs": [],
      "source": [
        "def answer16():\n",
        "      \n",
        "    return serie\n",
        "\n",
        "answer16()\n",
        "\n"
      ]
    },
    {
      "cell_type": "markdown",
      "metadata": {
        "id": "ORBVXkVvxtzQ"
      },
      "source": [
        "### Question 17 \n",
        "Convert the Population Estimate series to a string with thousands separator (using commas). Do not round the results.\n",
        "\n",
        "e.g. 317615384.61538464 -> 317,615,384.61538464\n",
        "\n",
        "*Create a function which should return a Series `PopEst` whose index is the country name and whose values are the population estimate string.*"
      ]
    },
    {
      "cell_type": "code",
      "execution_count": null,
      "metadata": {
        "id": "yvlFVNPgxtzQ",
        "scrolled": true,
        "umich_part_id": "020",
        "umich_partlist_id": "003"
      },
      "outputs": [],
      "source": [
        "def answer17():\n",
        "    \n",
        "    return ...\n",
        "answer17()    "
      ]
    },
    {
      "cell_type": "markdown",
      "metadata": {
        "id": "aO5NsQI4xtzR"
      },
      "source": [
        "### Optional\n",
        "\n",
        "Use the built in function `plot_optional()` to see an example visualization."
      ]
    },
    {
      "cell_type": "code",
      "execution_count": null,
      "metadata": {
        "collapsed": true,
        "id": "ptVd4_CcxtzR",
        "scrolled": true
      },
      "outputs": [],
      "source": [
        "def plot_optional():\n",
        "    import matplotlib as plt\n",
        "    #%matplotlib inline\n",
        "    Top15 = answer5()\n",
        "    ax = Top15.plot(x='Rank', y='% Renewable', kind='scatter', \n",
        "                    c=['#e41a1c','#377eb8','#e41a1c','#4daf4a','#4daf4a','#377eb8','#4daf4a','#e41a1c',\n",
        "                       '#4daf4a','#e41a1c','#4daf4a','#4daf4a','#e41a1c','#dede00','#ff7f00'], \n",
        "                    xticks=range(1,16), s=6*Top15['2014']/10**10, alpha=.75, figsize=[16,6]);\n",
        "\n",
        "    for i, txt in enumerate(Top15.index):\n",
        "        ax.annotate(txt, [Top15['Rank'][i], Top15['% Renewable'][i]], ha='center')\n",
        "\n",
        "    print(\"This is an example of a visualization that can be created to help understand the data. \\\n",
        "This is a bubble chart showing % Renewable vs. Rank. The size of the bubble corresponds to the countries' \\\n",
        "2014 GDP, and the color corresponds to the continent.\")"
      ]
    }
  ],
  "metadata": {
    "anaconda-cloud": {},
    "colab": {
      "provenance": []
    },
    "coursera": {
      "course_slug": "python-data-analysis",
      "graded_item_id": "zAr06",
      "launcher_item_id": "KSSjT",
      "part_id": "SL3fU"
    },
    "kernelspec": {
      "display_name": "Python 3.10.5 64-bit",
      "language": "python",
      "name": "python3"
    },
    "language_info": {
      "codemirror_mode": {
        "name": "ipython",
        "version": 3
      },
      "file_extension": ".py",
      "mimetype": "text/x-python",
      "name": "python",
      "nbconvert_exporter": "python",
      "pygments_lexer": "ipython3",
      "version": "3.10.5"
    },
    "umich": {
      "id": "Assignment 3",
      "version": "1.5"
    },
    "vscode": {
      "interpreter": {
        "hash": "e9ca13f56c3d30826a1ec2c18c4a22798d5a7d38d08a0e827cd34ea9de92daf6"
      }
    }
  },
  "nbformat": 4,
  "nbformat_minor": 0
}
