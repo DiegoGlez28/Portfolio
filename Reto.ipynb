{
 "cells": [
  {
   "cell_type": "code",
   "execution_count": 80,
   "metadata": {},
   "outputs": [],
   "source": [
    "import pandas as pd\n",
    "import numpy as np"
   ]
  },
  {
   "cell_type": "code",
   "execution_count": 81,
   "metadata": {},
   "outputs": [],
   "source": [
    "Authors = pd.read_csv('AuthorsMetrics2012-2022.csv')\n",
    "Publications = pd.read_csv('Publications17-21.csv', low_memory = False, na_values = '-')"
   ]
  },
  {
   "cell_type": "code",
   "execution_count": 82,
   "metadata": {},
   "outputs": [
    {
     "data": {
      "text/html": [
       "<div>\n",
       "<style scoped>\n",
       "    .dataframe tbody tr th:only-of-type {\n",
       "        vertical-align: middle;\n",
       "    }\n",
       "\n",
       "    .dataframe tbody tr th {\n",
       "        vertical-align: top;\n",
       "    }\n",
       "\n",
       "    .dataframe thead th {\n",
       "        text-align: right;\n",
       "    }\n",
       "</style>\n",
       "<table border=\"1\" class=\"dataframe\">\n",
       "  <thead>\n",
       "    <tr style=\"text-align: right;\">\n",
       "      <th></th>\n",
       "      <th>Scopus author ID</th>\n",
       "      <th>Scholarly Output</th>\n",
       "      <th>Most recent publication</th>\n",
       "      <th>Citations</th>\n",
       "      <th>Citations per Publication</th>\n",
       "      <th>Field-Weighted Citation Impact</th>\n",
       "      <th>h-index</th>\n",
       "      <th>Output in Top 10% Citation Percentiles (field-weighted)</th>\n",
       "      <th>Oldest publication (since 1996)</th>\n",
       "      <th>O10 Ratio</th>\n",
       "    </tr>\n",
       "  </thead>\n",
       "  <tbody>\n",
       "    <tr>\n",
       "      <th>55648</th>\n",
       "      <td>57202824584</td>\n",
       "      <td>1</td>\n",
       "      <td>2017</td>\n",
       "      <td>3700</td>\n",
       "      <td>3700.0</td>\n",
       "      <td>315.05</td>\n",
       "      <td>66</td>\n",
       "      <td>1</td>\n",
       "      <td>2017</td>\n",
       "      <td>1.0</td>\n",
       "    </tr>\n",
       "    <tr>\n",
       "      <th>14525</th>\n",
       "      <td>35373585600</td>\n",
       "      <td>2</td>\n",
       "      <td>2012</td>\n",
       "      <td>8328</td>\n",
       "      <td>4164.0</td>\n",
       "      <td>267.96</td>\n",
       "      <td>75</td>\n",
       "      <td>1</td>\n",
       "      <td>1996</td>\n",
       "      <td>0.5</td>\n",
       "    </tr>\n",
       "    <tr>\n",
       "      <th>63956</th>\n",
       "      <td>57211633289</td>\n",
       "      <td>1</td>\n",
       "      <td>2017</td>\n",
       "      <td>2691</td>\n",
       "      <td>2691.0</td>\n",
       "      <td>263.59</td>\n",
       "      <td>32</td>\n",
       "      <td>1</td>\n",
       "      <td>2017</td>\n",
       "      <td>1.0</td>\n",
       "    </tr>\n",
       "    <tr>\n",
       "      <th>2813</th>\n",
       "      <td>6602858726</td>\n",
       "      <td>4</td>\n",
       "      <td>2019</td>\n",
       "      <td>8511</td>\n",
       "      <td>2127.8</td>\n",
       "      <td>137.67</td>\n",
       "      <td>11</td>\n",
       "      <td>7</td>\n",
       "      <td>1998</td>\n",
       "      <td>1.0</td>\n",
       "    </tr>\n",
       "    <tr>\n",
       "      <th>65071</th>\n",
       "      <td>57213134937</td>\n",
       "      <td>2</td>\n",
       "      <td>2012</td>\n",
       "      <td>7182</td>\n",
       "      <td>3591.0</td>\n",
       "      <td>119.85</td>\n",
       "      <td>27</td>\n",
       "      <td>27</td>\n",
       "      <td>2006</td>\n",
       "      <td>1.0</td>\n",
       "    </tr>\n",
       "  </tbody>\n",
       "</table>\n",
       "</div>"
      ],
      "text/plain": [
       "       Scopus author ID  Scholarly Output  Most recent publication  Citations  \\\n",
       "55648       57202824584                 1                     2017       3700   \n",
       "14525       35373585600                 2                     2012       8328   \n",
       "63956       57211633289                 1                     2017       2691   \n",
       "2813         6602858726                 4                     2019       8511   \n",
       "65071       57213134937                 2                     2012       7182   \n",
       "\n",
       "       Citations per Publication  Field-Weighted Citation Impact  h-index  \\\n",
       "55648                     3700.0                          315.05       66   \n",
       "14525                     4164.0                          267.96       75   \n",
       "63956                     2691.0                          263.59       32   \n",
       "2813                      2127.8                          137.67       11   \n",
       "65071                     3591.0                          119.85       27   \n",
       "\n",
       "       Output in Top 10% Citation Percentiles (field-weighted)  \\\n",
       "55648                                                  1         \n",
       "14525                                                  1         \n",
       "63956                                                  1         \n",
       "2813                                                   7         \n",
       "65071                                                 27         \n",
       "\n",
       "       Oldest publication (since 1996)  O10 Ratio  \n",
       "55648                             2017        1.0  \n",
       "14525                             1996        0.5  \n",
       "63956                             2017        1.0  \n",
       "2813                              1998        1.0  \n",
       "65071                             2006        1.0  "
      ]
     },
     "execution_count": 82,
     "metadata": {},
     "output_type": "execute_result"
    }
   ],
   "source": [
    "\n",
    "Authors.sort_values('Field-Weighted Citation Impact', ascending = False, inplace = True) # Acomodo de mayor a menor con FWCI.\n",
    "Authors['O10 Ratio'] = Authors['Output in Top 10% Citation Percentiles (field-weighted)'] / Authors['Scholarly Output']\n",
    "\n",
    "for row in Authors['O10 Ratio'].unique():  # itero sobre la nueva columna \n",
    "    if row > 1:  # si el valor es mayor a 1, es porque Output in top 10% esta considerando publicaciones fuera de scopus.\n",
    "        Authors.loc[Authors['O10 Ratio'] == row, 'O10 Ratio'] = 1  # para corregir lo anterior, todo valor mayor a 1 se hace uno (Solo se consideran publicaciones en scopus)\n",
    "Authors.head()"
   ]
  },
  {
   "cell_type": "code",
   "execution_count": 83,
   "metadata": {},
   "outputs": [
    {
     "name": "stdout",
     "output_type": "stream",
     "text": [
      "10.353455598455598\n",
      "(1561, 10)\n"
     ]
    }
   ],
   "source": [
    "Authors_Og = Authors.copy()  # Authors_Og es una copia de seguridad. \n",
    "'''\n",
    "indexAge = df[ (df['Age'] >= 20) & (df['Age'] <= 25) ].index\n",
    "df.drop(indexAge , inplace=True)\n",
    "df.head(15) \n",
    "Código de: https://www.geeksforgeeks.org/drop-rows-from-the-dataframe-based-on-certain-condition-applied-on-a-column/ \n",
    "'''\n",
    "reps = 3  # define la \"profundidad\" de la simplificación\n",
    "  # El siguiente ciclo elimina a los autores con FWCI menor al promedio con cada iteración.\n",
    "meanFWCI = Authors['Field-Weighted Citation Impact'].mean()\n",
    "for i in range(reps):\n",
    "    indexFWCI = Authors[ (Authors['Field-Weighted Citation Impact'] < meanFWCI)].index\n",
    "    Authors.drop(indexFWCI, inplace = True)\n",
    "    meanFWCI = Authors['Field-Weighted Citation Impact'].mean()\n",
    "print(meanFWCI)\n",
    "print(Authors.shape)"
   ]
  },
  {
   "cell_type": "code",
   "execution_count": 84,
   "metadata": {},
   "outputs": [],
   "source": [
    "Publications.drop(Publications[(Publications['Number of Authors'] == 1)].index, inplace = True)"
   ]
  },
  {
   "cell_type": "code",
   "execution_count": 85,
   "metadata": {},
   "outputs": [
    {
     "name": "stdout",
     "output_type": "stream",
     "text": [
      "Arts and Hum.: 1.6797788645545395%,\n",
      "Engin. and Tech.: 23.816435392765026%,\n",
      "Soc. Sc. and Mngmt.: 10.209949246087142%,\n",
      "Nat. Sc.: 30.632621176122548%,\n",
      "Life Sc. and Med.: 31.791918202072683%\n"
     ]
    }
   ],
   "source": [
    "import itertools\n",
    "QSsac = []\n",
    "for index, row in Publications.iterrows():\n",
    "    txt = str(Publications.at[index, 'Quacquarelli Symonds (QS) Subject area code'])\n",
    "    sep = txt.split(\"| \")\n",
    "    QSsac.append(sep)\n",
    "SQsac = list(itertools.chain.from_iterable(QSsac))\n",
    "ArtsHum = SQsac.count('1')/len(SQsac)  #1 Arts and Humanity\n",
    "EngTec = SQsac.count('2')/len(SQsac)  #2 Engineering and Technology\n",
    "SoScM = SQsac.count('3')/len(SQsac)  #3 Social Sciences and Management\n",
    "NatSc = SQsac.count('4')/len(SQsac)  #4 Natural Sciences \n",
    "LifeScM = SQsac.count('5')/len(SQsac)  #2 Life Sciences and Medicine \n",
    "print(f\"Arts and Hum.: {ArtsHum*100}%,\\nEngin. and Tech.: {EngTec*100}%,\\nSoc. Sc. and Mngmt.: {SoScM*100}%,\\nNat. Sc.: {NatSc*100}%,\\nLife Sc. and Med.: {LifeScM*100}%\")"
   ]
  },
  {
   "cell_type": "code",
   "execution_count": 86,
   "metadata": {},
   "outputs": [
    {
     "name": "stdout",
     "output_type": "stream",
     "text": [
      "['Journal' 'Book Series' 'Conference Proceeding' 'Book'\n",
      " 'Trade Publication']\n"
     ]
    }
   ],
   "source": [
    "print(pd.unique(Publications['Source type']))"
   ]
  },
  {
   "cell_type": "code",
   "execution_count": 87,
   "metadata": {},
   "outputs": [],
   "source": [
    "  # Mismo método que con authors\n",
    "Publications_Og = Publications.copy()\n",
    "Journals = Publications[(Publications['Source type'] == 'Journal')]\n",
    "Bookseries = Publications[(Publications['Source type'] == 'Book Series')]\n",
    "Conference = Publications[(Publications['Source type'] == 'Conference Proceeding')]\n",
    "Book = Publications[(Publications['Source type'] == 'Book')]\n",
    "Tradepub = Publications[(Publications['Source type'] == 'Trade Publication')]"
   ]
  },
  {
   "cell_type": "code",
   "execution_count": 88,
   "metadata": {},
   "outputs": [
    {
     "name": "stdout",
     "output_type": "stream",
     "text": [
      "27.92698847262248\n"
     ]
    },
    {
     "name": "stderr",
     "output_type": "stream",
     "text": [
      "C:\\Users\\diego\\AppData\\Local\\Temp\\ipykernel_4788\\2913850840.py:4: SettingWithCopyWarning: \n",
      "A value is trying to be set on a copy of a slice from a DataFrame\n",
      "\n",
      "See the caveats in the documentation: https://pandas.pydata.org/pandas-docs/stable/user_guide/indexing.html#returning-a-view-versus-a-copy\n",
      "  Journals.drop(indexFWCIj, inplace = True)\n"
     ]
    }
   ],
   "source": [
    "meanFWCIj = Journals['Field-Weighted Citation Impact'].mean()\n",
    "for i in range(reps):\n",
    "    indexFWCIj = Journals[ (Journals['Field-Weighted Citation Impact'] < meanFWCIj)].index\n",
    "    Journals.drop(indexFWCIj, inplace = True)\n",
    "    meanFWCIj = Journals['Field-Weighted Citation Impact'].mean()\n",
    "print(meanFWCIj)"
   ]
  },
  {
   "cell_type": "code",
   "execution_count": 89,
   "metadata": {},
   "outputs": [
    {
     "name": "stdout",
     "output_type": "stream",
     "text": [
      "12.134400000000001\n"
     ]
    },
    {
     "name": "stderr",
     "output_type": "stream",
     "text": [
      "C:\\Users\\diego\\AppData\\Local\\Temp\\ipykernel_4788\\3667866747.py:4: SettingWithCopyWarning: \n",
      "A value is trying to be set on a copy of a slice from a DataFrame\n",
      "\n",
      "See the caveats in the documentation: https://pandas.pydata.org/pandas-docs/stable/user_guide/indexing.html#returning-a-view-versus-a-copy\n",
      "  Bookseries.drop(indexFWCIbs, inplace = True)\n"
     ]
    }
   ],
   "source": [
    "meanFWCIbs = Bookseries['Field-Weighted Citation Impact'].mean()\n",
    "for i in range(reps):\n",
    "    indexFWCIbs = Bookseries[ (Bookseries['Field-Weighted Citation Impact'] < meanFWCIbs)].index\n",
    "    Bookseries.drop(indexFWCIbs, inplace = True)\n",
    "    meanFWCIbs = Bookseries['Field-Weighted Citation Impact'].mean()\n",
    "print(meanFWCIbs)"
   ]
  },
  {
   "cell_type": "code",
   "execution_count": 91,
   "metadata": {},
   "outputs": [
    {
     "name": "stdout",
     "output_type": "stream",
     "text": [
      "13.342704918032787\n"
     ]
    },
    {
     "name": "stderr",
     "output_type": "stream",
     "text": [
      "C:\\Users\\diego\\AppData\\Local\\Temp\\ipykernel_4788\\897126516.py:4: SettingWithCopyWarning: \n",
      "A value is trying to be set on a copy of a slice from a DataFrame\n",
      "\n",
      "See the caveats in the documentation: https://pandas.pydata.org/pandas-docs/stable/user_guide/indexing.html#returning-a-view-versus-a-copy\n",
      "  Conference.drop(indexFWCIc, inplace = True)\n"
     ]
    }
   ],
   "source": [
    "meanFWCIc = Conference['Field-Weighted Citation Impact'].mean()\n",
    "for i in range(reps):\n",
    "    indexFWCIc = Conference[(Conference['Field-Weighted Citation Impact'] < meanFWCIc)].index\n",
    "    Conference.drop(indexFWCIc, inplace = True)\n",
    "    meanFWCIc = Conference['Field-Weighted Citation Impact'].mean()\n",
    "print(meanFWCIc)"
   ]
  },
  {
   "cell_type": "code",
   "execution_count": 92,
   "metadata": {},
   "outputs": [
    {
     "name": "stdout",
     "output_type": "stream",
     "text": [
      "18.69448275862069\n"
     ]
    },
    {
     "name": "stderr",
     "output_type": "stream",
     "text": [
      "C:\\Users\\diego\\AppData\\Local\\Temp\\ipykernel_4788\\1339029088.py:4: SettingWithCopyWarning: \n",
      "A value is trying to be set on a copy of a slice from a DataFrame\n",
      "\n",
      "See the caveats in the documentation: https://pandas.pydata.org/pandas-docs/stable/user_guide/indexing.html#returning-a-view-versus-a-copy\n",
      "  Book.drop(indexFWCIb, inplace = True)\n"
     ]
    }
   ],
   "source": [
    "meanFWCIb = Book['Field-Weighted Citation Impact'].mean()\n",
    "for i in range(reps):\n",
    "    indexFWCIb = Book[(Book['Field-Weighted Citation Impact'] < meanFWCIb)].index\n",
    "    Book.drop(indexFWCIb, inplace = True)\n",
    "    meanFWCIb = Book['Field-Weighted Citation Impact'].mean()\n",
    "print(meanFWCIb)"
   ]
  },
  {
   "cell_type": "code",
   "execution_count": 93,
   "metadata": {},
   "outputs": [
    {
     "name": "stdout",
     "output_type": "stream",
     "text": [
      "0.37\n"
     ]
    },
    {
     "name": "stderr",
     "output_type": "stream",
     "text": [
      "C:\\Users\\diego\\AppData\\Local\\Temp\\ipykernel_4788\\491566002.py:4: SettingWithCopyWarning: \n",
      "A value is trying to be set on a copy of a slice from a DataFrame\n",
      "\n",
      "See the caveats in the documentation: https://pandas.pydata.org/pandas-docs/stable/user_guide/indexing.html#returning-a-view-versus-a-copy\n",
      "  Tradepub.drop(indexFWCItp, inplace = True)\n"
     ]
    }
   ],
   "source": [
    "meanFWCItp = Tradepub['Field-Weighted Citation Impact'].mean()\n",
    "for i in range(reps):\n",
    "    indexFWCItp = Tradepub[(Tradepub['Field-Weighted Citation Impact'] < meanFWCItp)].index\n",
    "    Tradepub.drop(indexFWCItp, inplace = True)\n",
    "    meanFWCItp = Tradepub['Field-Weighted Citation Impact'].mean()\n",
    "print(meanFWCItp)"
   ]
  }
 ],
 "metadata": {
  "kernelspec": {
   "display_name": "Python 3",
   "language": "python",
   "name": "python3"
  },
  "language_info": {
   "codemirror_mode": {
    "name": "ipython",
    "version": 3
   },
   "file_extension": ".py",
   "mimetype": "text/x-python",
   "name": "python",
   "nbconvert_exporter": "python",
   "pygments_lexer": "ipython3",
   "version": "3.10.5"
  },
  "orig_nbformat": 4,
  "vscode": {
   "interpreter": {
    "hash": "e9ca13f56c3d30826a1ec2c18c4a22798d5a7d38d08a0e827cd34ea9de92daf6"
   }
  }
 },
 "nbformat": 4,
 "nbformat_minor": 2
}
